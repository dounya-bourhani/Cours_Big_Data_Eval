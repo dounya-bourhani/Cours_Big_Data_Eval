{
 "cells": [
  {
   "cell_type": "markdown",
   "metadata": {},
   "source": [
    "# OrientDB tutorial"
   ]
  },
  {
   "cell_type": "markdown",
   "metadata": {},
   "source": [
    "## Prerequisites"
   ]
  },
  {
   "cell_type": "markdown",
   "metadata": {},
   "source": [
    "### Documentation\n",
    "\n",
    "You will find all documentation for :\n",
    "* [OrientDB SQL reference](http://www.orientdb.com/docs/last/SQL-Functions.html)\n",
    "* [Orientdb python client](http://orientdb.com/docs/last/PyOrient-Client.html#working-with-the-client)"
   ]
  },
  {
   "cell_type": "markdown",
   "metadata": {},
   "source": [
    "## Import libraries"
   ]
  },
  {
   "cell_type": "code",
   "execution_count": 18,
   "metadata": {},
   "outputs": [],
   "source": [
    "import pyorient"
   ]
  },
  {
   "cell_type": "code",
   "execution_count": 19,
   "metadata": {},
   "outputs": [],
   "source": [
    "ROOT_PASSWORD = \"root\"\n",
    "client = pyorient.OrientDB(\"localhost\", 2424)\n",
    "session_id = client.connect(\"root\", ROOT_PASSWORD)"
   ]
  },
  {
   "cell_type": "code",
   "execution_count": 20,
   "metadata": {},
   "outputs": [
    {
     "name": "stdout",
     "output_type": "stream",
     "text": [
      "{{'databases': {'eCommerce': 'memory:eCommerce', 'gods': 'memory:gods'}}}\n"
     ]
    }
   ],
   "source": [
    "print(client.db_list())"
   ]
  },
  {
   "cell_type": "markdown",
   "metadata": {},
   "source": [
    "## I. Quick start"
   ]
  },
  {
   "cell_type": "markdown",
   "metadata": {},
   "source": [
    "### Creating the database"
   ]
  },
  {
   "cell_type": "markdown",
   "metadata": {},
   "source": [
    "**Q:** Create a database `gods` as a `GRAPH_DATABASE` in `MEMORY_STORAGE_TYPE`. \n",
    "\n",
    "We will use it to store relationships between Greek deities."
   ]
  },
  {
   "cell_type": "code",
   "execution_count": 4,
   "metadata": {},
   "outputs": [
    {
     "name": "stderr",
     "output_type": "stream",
     "text": [
      "C:\\Users\\ndieng1\\.conda\\envs\\nosql\\lib\\site-packages\\pyorient\\messages\\base.py:259: SyntaxWarning: \"is not\" with a literal. Did you mean \"!=\"?\n",
      "  if len(_continue) is not 0:\n",
      "C:\\Users\\ndieng1\\.conda\\envs\\nosql\\lib\\site-packages\\pyorient\\messages\\base.py:264: SyntaxWarning: \"is\" with a literal. Did you mean \"==\"?\n",
      "  elif len(self._body) is 0:\n",
      "C:\\Users\\ndieng1\\.conda\\envs\\nosql\\lib\\site-packages\\pyorient\\messages\\base.py:464: SyntaxWarning: \"is\" with a literal. Did you mean \"==\"?\n",
      "  if marker is -2:\n",
      "C:\\Users\\ndieng1\\.conda\\envs\\nosql\\lib\\site-packages\\pyorient\\messages\\base.py:466: SyntaxWarning: \"is\" with a literal. Did you mean \"==\"?\n",
      "  elif marker is -3:\n",
      "C:\\Users\\ndieng1\\.conda\\envs\\nosql\\lib\\site-packages\\pyorient\\messages\\base.py:259: SyntaxWarning: \"is not\" with a literal. Did you mean \"!=\"?\n",
      "  if len(_continue) is not 0:\n",
      "C:\\Users\\ndieng1\\.conda\\envs\\nosql\\lib\\site-packages\\pyorient\\messages\\base.py:264: SyntaxWarning: \"is\" with a literal. Did you mean \"==\"?\n",
      "  elif len(self._body) is 0:\n",
      "C:\\Users\\ndieng1\\.conda\\envs\\nosql\\lib\\site-packages\\pyorient\\messages\\base.py:464: SyntaxWarning: \"is\" with a literal. Did you mean \"==\"?\n",
      "  if marker is -2:\n",
      "C:\\Users\\ndieng1\\.conda\\envs\\nosql\\lib\\site-packages\\pyorient\\messages\\base.py:466: SyntaxWarning: \"is\" with a literal. Did you mean \"==\"?\n",
      "  elif marker is -3:\n",
      "C:\\Users\\ndieng1\\.conda\\envs\\nosql\\lib\\site-packages\\pyorient\\messages\\base.py:259: SyntaxWarning: \"is not\" with a literal. Did you mean \"!=\"?\n",
      "  if len(_continue) is not 0:\n",
      "C:\\Users\\ndieng1\\.conda\\envs\\nosql\\lib\\site-packages\\pyorient\\messages\\base.py:264: SyntaxWarning: \"is\" with a literal. Did you mean \"==\"?\n",
      "  elif len(self._body) is 0:\n",
      "C:\\Users\\ndieng1\\.conda\\envs\\nosql\\lib\\site-packages\\pyorient\\messages\\base.py:464: SyntaxWarning: \"is\" with a literal. Did you mean \"==\"?\n",
      "  if marker is -2:\n",
      "C:\\Users\\ndieng1\\.conda\\envs\\nosql\\lib\\site-packages\\pyorient\\messages\\base.py:466: SyntaxWarning: \"is\" with a literal. Did you mean \"==\"?\n",
      "  elif marker is -3:\n",
      "C:\\Users\\ndieng1\\.conda\\envs\\nosql\\lib\\site-packages\\pyorient\\messages\\base.py:259: SyntaxWarning: \"is not\" with a literal. Did you mean \"!=\"?\n",
      "  if len(_continue) is not 0:\n",
      "C:\\Users\\ndieng1\\.conda\\envs\\nosql\\lib\\site-packages\\pyorient\\messages\\base.py:264: SyntaxWarning: \"is\" with a literal. Did you mean \"==\"?\n",
      "  elif len(self._body) is 0:\n",
      "C:\\Users\\ndieng1\\.conda\\envs\\nosql\\lib\\site-packages\\pyorient\\messages\\base.py:464: SyntaxWarning: \"is\" with a literal. Did you mean \"==\"?\n",
      "  if marker is -2:\n",
      "C:\\Users\\ndieng1\\.conda\\envs\\nosql\\lib\\site-packages\\pyorient\\messages\\base.py:466: SyntaxWarning: \"is\" with a literal. Did you mean \"==\"?\n",
      "  elif marker is -3:\n"
     ]
    },
    {
     "ename": "PyOrientDatabaseException",
     "evalue": "com.orientechnologies.orient.core.exception.ODatabaseException - Database named 'gods' already exists: gods",
     "output_type": "error",
     "traceback": [
      "\u001b[1;31m---------------------------------------------------------------------------\u001b[0m",
      "\u001b[1;31mPyOrientDatabaseException\u001b[0m                 Traceback (most recent call last)",
      "Cell \u001b[1;32mIn[4], line 2\u001b[0m\n\u001b[0;32m      1\u001b[0m \u001b[38;5;66;03m#create database gods \u001b[39;00m\n\u001b[1;32m----> 2\u001b[0m \u001b[43mclient\u001b[49m\u001b[38;5;241;43m.\u001b[39;49m\u001b[43mdb_create\u001b[49m\u001b[43m(\u001b[49m\u001b[38;5;124;43m\"\u001b[39;49m\u001b[38;5;124;43mgods\u001b[39;49m\u001b[38;5;124;43m\"\u001b[39;49m\u001b[43m,\u001b[49m\u001b[43mpyorient\u001b[49m\u001b[38;5;241;43m.\u001b[39;49m\u001b[43mDB_TYPE_GRAPH\u001b[49m\u001b[43m,\u001b[49m\u001b[43m \u001b[49m\u001b[43mpyorient\u001b[49m\u001b[38;5;241;43m.\u001b[39;49m\u001b[43mSTORAGE_TYPE_MEMORY\u001b[49m\u001b[43m)\u001b[49m\n",
      "File \u001b[1;32m~\\.conda\\envs\\nosql\\lib\\site-packages\\pyorient\\orient.py:363\u001b[0m, in \u001b[0;36mOrientDB.db_create\u001b[1;34m(self, name, type, storage)\u001b[0m\n\u001b[0;32m    344\u001b[0m \u001b[38;5;28;01mdef\u001b[39;00m \u001b[38;5;21mdb_create\u001b[39m(\u001b[38;5;28mself\u001b[39m, name, \u001b[38;5;28mtype\u001b[39m\u001b[38;5;241m=\u001b[39mDB_TYPE_DOCUMENT, storage\u001b[38;5;241m=\u001b[39mSTORAGE_TYPE_PLOCAL):\n\u001b[0;32m    345\u001b[0m \u001b[38;5;250m    \u001b[39m\u001b[38;5;124;03m'''Creates a database in the remote OrientDB server instance.\u001b[39;00m\n\u001b[0;32m    346\u001b[0m \n\u001b[0;32m    347\u001b[0m \u001b[38;5;124;03m    :param name: the name of the database to create. Example: \"MyDatabase\".\u001b[39;00m\n\u001b[1;32m   (...)\u001b[0m\n\u001b[0;32m    361\u001b[0m \u001b[38;5;124;03m        >>> client.db_create('test')\u001b[39;00m\n\u001b[0;32m    362\u001b[0m \u001b[38;5;124;03m    '''\u001b[39;00m\n\u001b[1;32m--> 363\u001b[0m     \u001b[38;5;28;43mself\u001b[39;49m\u001b[38;5;241;43m.\u001b[39;49m\u001b[43mget_message\u001b[49m\u001b[43m(\u001b[49m\u001b[38;5;124;43m\"\u001b[39;49m\u001b[38;5;124;43mDbCreateMessage\u001b[39;49m\u001b[38;5;124;43m\"\u001b[39;49m\u001b[43m)\u001b[49m\u001b[43m \u001b[49m\u001b[43m\\\u001b[49m\n\u001b[0;32m    364\u001b[0m \u001b[43m        \u001b[49m\u001b[38;5;241;43m.\u001b[39;49m\u001b[43mprepare\u001b[49m\u001b[43m(\u001b[49m\u001b[43m(\u001b[49m\u001b[43mname\u001b[49m\u001b[43m,\u001b[49m\u001b[43m \u001b[49m\u001b[38;5;28;43mtype\u001b[39;49m\u001b[43m,\u001b[49m\u001b[43m \u001b[49m\u001b[43mstorage\u001b[49m\u001b[43m)\u001b[49m\u001b[43m)\u001b[49m\u001b[38;5;241;43m.\u001b[39;49m\u001b[43msend\u001b[49m\u001b[43m(\u001b[49m\u001b[43m)\u001b[49m\u001b[38;5;241;43m.\u001b[39;49m\u001b[43mfetch_response\u001b[49m\u001b[43m(\u001b[49m\u001b[43m)\u001b[49m\n\u001b[0;32m    365\u001b[0m     \u001b[38;5;28;01mreturn\u001b[39;00m \u001b[38;5;28;01mNone\u001b[39;00m\n",
      "File \u001b[1;32m~\\.conda\\envs\\nosql\\lib\\site-packages\\pyorient\\messages\\database.py:337\u001b[0m, in \u001b[0;36mDbCreateMessage.fetch_response\u001b[1;34m(self)\u001b[0m\n\u001b[0;32m    336\u001b[0m \u001b[38;5;28;01mdef\u001b[39;00m \u001b[38;5;21mfetch_response\u001b[39m(\u001b[38;5;28mself\u001b[39m):\n\u001b[1;32m--> 337\u001b[0m     \u001b[38;5;28;43msuper\u001b[39;49m\u001b[43m(\u001b[49m\u001b[43mDbCreateMessage\u001b[49m\u001b[43m,\u001b[49m\u001b[43m \u001b[49m\u001b[38;5;28;43mself\u001b[39;49m\u001b[43m)\u001b[49m\u001b[38;5;241;43m.\u001b[39;49m\u001b[43mfetch_response\u001b[49m\u001b[43m(\u001b[49m\u001b[43m)\u001b[49m\n\u001b[0;32m    338\u001b[0m     \u001b[38;5;66;03m# set database opened\u001b[39;00m\n\u001b[0;32m    339\u001b[0m     \u001b[38;5;28mself\u001b[39m\u001b[38;5;241m.\u001b[39m_orientSocket\u001b[38;5;241m.\u001b[39mdb_opened \u001b[38;5;241m=\u001b[39m \u001b[38;5;28mself\u001b[39m\u001b[38;5;241m.\u001b[39m_db_name\n",
      "File \u001b[1;32m~\\.conda\\envs\\nosql\\lib\\site-packages\\pyorient\\messages\\base.py:265\u001b[0m, in \u001b[0;36mBaseMessage.fetch_response\u001b[1;34m(self, *_continue)\u001b[0m\n\u001b[0;32m    263\u001b[0m \u001b[38;5;66;03m# already fetched, get last results as cache info\u001b[39;00m\n\u001b[0;32m    264\u001b[0m \u001b[38;5;28;01melif\u001b[39;00m \u001b[38;5;28mlen\u001b[39m(\u001b[38;5;28mself\u001b[39m\u001b[38;5;241m.\u001b[39m_body) \u001b[38;5;129;01mis\u001b[39;00m \u001b[38;5;241m0\u001b[39m:\n\u001b[1;32m--> 265\u001b[0m     \u001b[38;5;28;43mself\u001b[39;49m\u001b[38;5;241;43m.\u001b[39;49m\u001b[43m_decode_all\u001b[49m\u001b[43m(\u001b[49m\u001b[43m)\u001b[49m\n\u001b[0;32m    266\u001b[0m     \u001b[38;5;28mself\u001b[39m\u001b[38;5;241m.\u001b[39mdump_streams()\n\u001b[0;32m    267\u001b[0m \u001b[38;5;28;01mreturn\u001b[39;00m \u001b[38;5;28mself\u001b[39m\u001b[38;5;241m.\u001b[39m_body\n",
      "File \u001b[1;32m~\\.conda\\envs\\nosql\\lib\\site-packages\\pyorient\\messages\\base.py:249\u001b[0m, in \u001b[0;36mBaseMessage._decode_all\u001b[1;34m(self)\u001b[0m\n\u001b[0;32m    248\u001b[0m \u001b[38;5;28;01mdef\u001b[39;00m \u001b[38;5;21m_decode_all\u001b[39m(\u001b[38;5;28mself\u001b[39m):\n\u001b[1;32m--> 249\u001b[0m     \u001b[38;5;28;43mself\u001b[39;49m\u001b[38;5;241;43m.\u001b[39;49m\u001b[43m_decode_header\u001b[49m\u001b[43m(\u001b[49m\u001b[43m)\u001b[49m\n\u001b[0;32m    250\u001b[0m     \u001b[38;5;28mself\u001b[39m\u001b[38;5;241m.\u001b[39m_decode_body()\n",
      "File \u001b[1;32m~\\.conda\\envs\\nosql\\lib\\site-packages\\pyorient\\messages\\base.py:180\u001b[0m, in \u001b[0;36mBaseMessage._decode_header\u001b[1;34m(self)\u001b[0m\n\u001b[0;32m    177\u001b[0m             \u001b[38;5;66;03m# trash\u001b[39;00m\n\u001b[0;32m    178\u001b[0m             \u001b[38;5;28;01mdel\u001b[39;00m serialized_exception\n\u001b[1;32m--> 180\u001b[0m     \u001b[38;5;28;01mraise\u001b[39;00m PyOrientCommandException(\n\u001b[0;32m    181\u001b[0m         exception_class\u001b[38;5;241m.\u001b[39mdecode( \u001b[38;5;124m'\u001b[39m\u001b[38;5;124mutf8\u001b[39m\u001b[38;5;124m'\u001b[39m ),\n\u001b[0;32m    182\u001b[0m         [ exception_message\u001b[38;5;241m.\u001b[39mdecode( \u001b[38;5;124m'\u001b[39m\u001b[38;5;124mutf8\u001b[39m\u001b[38;5;124m'\u001b[39m ) ]\n\u001b[0;32m    183\u001b[0m     )\n\u001b[0;32m    185\u001b[0m \u001b[38;5;28;01melif\u001b[39;00m \u001b[38;5;28mself\u001b[39m\u001b[38;5;241m.\u001b[39m_header[\u001b[38;5;241m0\u001b[39m] \u001b[38;5;241m==\u001b[39m \u001b[38;5;241m3\u001b[39m:\n\u001b[0;32m    186\u001b[0m     \u001b[38;5;66;03m# Push notification, Node cluster changed\u001b[39;00m\n\u001b[0;32m    187\u001b[0m     \u001b[38;5;66;03m# TODO: UNTESTED CODE!!!\u001b[39;00m\n\u001b[0;32m    188\u001b[0m     \u001b[38;5;66;03m# FIELD_BYTE (OChannelBinaryProtocol.PUSH_DATA);  # WRITE 3\u001b[39;00m\n\u001b[0;32m    189\u001b[0m     \u001b[38;5;66;03m# FIELD_INT (Integer.MIN_VALUE);  # SESSION ID = 2^-31\u001b[39;00m\n\u001b[0;32m    190\u001b[0m     \u001b[38;5;66;03m# 80: \\x50 Request Push 1 byte: Push command id\u001b[39;00m\n\u001b[0;32m    191\u001b[0m     push_command_id \u001b[38;5;241m=\u001b[39m \u001b[38;5;28mself\u001b[39m\u001b[38;5;241m.\u001b[39m_decode_field(FIELD_BYTE)\n",
      "\u001b[1;31mPyOrientDatabaseException\u001b[0m: com.orientechnologies.orient.core.exception.ODatabaseException - Database named 'gods' already exists: gods"
     ]
    }
   ],
   "source": [
    "#create database gods \n",
    "client.db_create(\"gods\",pyorient.DB_TYPE_GRAPH, pyorient.STORAGE_TYPE_MEMORY)"
   ]
  },
  {
   "cell_type": "markdown",
   "metadata": {},
   "source": [
    "**Q:** Connect your pyorient client to the `gods` database."
   ]
  },
  {
   "cell_type": "code",
   "execution_count": 21,
   "metadata": {},
   "outputs": [
    {
     "data": {
      "text/plain": [
       "[<pyorient.otypes.OrientCluster at 0x1dac1cca3d0>,\n",
       " <pyorient.otypes.OrientCluster at 0x1dac32da8e0>,\n",
       " <pyorient.otypes.OrientCluster at 0x1dac1f12130>,\n",
       " <pyorient.otypes.OrientCluster at 0x1dac1f10400>,\n",
       " <pyorient.otypes.OrientCluster at 0x1dac1f0ec70>,\n",
       " <pyorient.otypes.OrientCluster at 0x1dac1f0efa0>,\n",
       " <pyorient.otypes.OrientCluster at 0x1dac3306af0>,\n",
       " <pyorient.otypes.OrientCluster at 0x1dac3306250>,\n",
       " <pyorient.otypes.OrientCluster at 0x1dac33067f0>,\n",
       " <pyorient.otypes.OrientCluster at 0x1dac3306be0>,\n",
       " <pyorient.otypes.OrientCluster at 0x1dac3306e20>,\n",
       " <pyorient.otypes.OrientCluster at 0x1dac3306eb0>,\n",
       " <pyorient.otypes.OrientCluster at 0x1dac3306f10>,\n",
       " <pyorient.otypes.OrientCluster at 0x1dac3306310>,\n",
       " <pyorient.otypes.OrientCluster at 0x1dac3306040>,\n",
       " <pyorient.otypes.OrientCluster at 0x1dac33066a0>,\n",
       " <pyorient.otypes.OrientCluster at 0x1dac3306850>,\n",
       " <pyorient.otypes.OrientCluster at 0x1dac3306190>,\n",
       " <pyorient.otypes.OrientCluster at 0x1dac3306370>,\n",
       " <pyorient.otypes.OrientCluster at 0x1dac3306730>,\n",
       " <pyorient.otypes.OrientCluster at 0x1dac3306610>,\n",
       " <pyorient.otypes.OrientCluster at 0x1dac3306550>,\n",
       " <pyorient.otypes.OrientCluster at 0x1dac33064f0>,\n",
       " <pyorient.otypes.OrientCluster at 0x1dac33069d0>,\n",
       " <pyorient.otypes.OrientCluster at 0x1dac3306d90>,\n",
       " <pyorient.otypes.OrientCluster at 0x1dac3306070>,\n",
       " <pyorient.otypes.OrientCluster at 0x1dac1dc2310>,\n",
       " <pyorient.otypes.OrientCluster at 0x1dac330c3d0>,\n",
       " <pyorient.otypes.OrientCluster at 0x1dac330c550>,\n",
       " <pyorient.otypes.OrientCluster at 0x1dac330c0d0>,\n",
       " <pyorient.otypes.OrientCluster at 0x1dac330c4f0>,\n",
       " <pyorient.otypes.OrientCluster at 0x1dac330c2b0>,\n",
       " <pyorient.otypes.OrientCluster at 0x1dac330c580>,\n",
       " <pyorient.otypes.OrientCluster at 0x1dac330c160>]"
      ]
     },
     "execution_count": 21,
     "metadata": {},
     "output_type": "execute_result"
    }
   ],
   "source": [
    "client.db_open(\"gods\",\"root\", ROOT_PASSWORD)"
   ]
  },
  {
   "cell_type": "markdown",
   "metadata": {},
   "source": [
    "**Q:** You should now be able to launch OrientDB queries through the Python client with the [command()](http://orientdb.com/docs/last/PyOrient-Client-Command.html) function. \n",
    "\n",
    "You should think of OrientDB as a Graph-Document database for the following questions. Each vertex and edge will contain information on it inside a JSON document.\n",
    "\n",
    "Create a new Vertex with content `{name: 'Zeus', symbol: 'thunder'}`. The [CREATE VERTEX : Create a vertex using JSON content](http://orientdb.com/docs/last/SQL-Create-Vertex.html) doc page should help you."
   ]
  },
  {
   "cell_type": "code",
   "execution_count": 22,
   "metadata": {},
   "outputs": [
    {
     "data": {
      "text/plain": [
       "[<pyorient.otypes.OrientRecord at 0x1dac3304a00>]"
      ]
     },
     "execution_count": 22,
     "metadata": {},
     "output_type": "execute_result"
    }
   ],
   "source": [
    "from pyorient import OrientDB\n",
    "# Define the JSON document for the new vertex\n",
    "#vertex_content = {'name': 'Zeus', \n",
    "  #                'symbol': 'thunder'\n",
    " #                }\n",
    "# Define the query to create a new vertex\n",
    "\n",
    "client.command(\"create vertex content {'name': 'Zeus','symbol': 'thunder'}\")\n"
   ]
  },
  {
   "cell_type": "markdown",
   "metadata": {},
   "source": [
    "You have created a VERTEX in the previous question. The VERTEX is a [class](https://orientdb.com/docs/last/Tutorial-Classes.html) of OrientDB which defines a record that can be linked to others through EDGE instances.\n",
    "\n",
    "You can find all VERTEX created in the database with a SQL command on the `V` table, like `SELECT * FROM V`. \n",
    "\n",
    "**Q:** Print all current vertices in `gods`, it should only have `Zeus` though for now."
   ]
  },
  {
   "cell_type": "code",
   "execution_count": 10,
   "metadata": {},
   "outputs": [
    {
     "name": "stdout",
     "output_type": "stream",
     "text": [
      "{'@V':{'in_': <pyorient.otypes.OrientBinaryObject object at 0x00000158AFA4A3D0>, 'out_': <pyorient.otypes.OrientBinaryObject object at 0x00000158AFA4ACD0>, 'name': 'Zeus', 'symbol': 'thunder'},'version':7,'rid':'#9:0'}\n",
      "{'@V':{'in_': <pyorient.otypes.OrientBinaryObject object at 0x00000158AFA4A130>, 'out_': <pyorient.otypes.OrientBinaryObject object at 0x00000158AFA4A370>, 'name': 'Zeus', 'symbol': 'thunder'},'version':6,'rid':'#10:0'}\n",
      "{'@V':{'out_': <pyorient.otypes.OrientBinaryObject object at 0x00000158AFA4A580>, 'name': 'Héra', 'symbol': 'tiara', 'in_': <pyorient.otypes.OrientBinaryObject object at 0x00000158AFA4A610>},'version':4,'rid':'#11:0'}\n",
      "{'@V':{'name': 'Poséidon', 'symbol': 'trident', 'in_': <pyorient.otypes.OrientBinaryObject object at 0x00000158AFA4A640>, 'out_': <pyorient.otypes.OrientBinaryObject object at 0x00000158AFA4A970>},'version':3,'rid':'#12:0'}\n",
      "{'@V':{'name': 'Athena', 'symbol': 'helmet', 'in_': <pyorient.otypes.OrientBinaryObject object at 0x00000158AFA4A310>},'version':2,'rid':'#13:0'}\n",
      "{'@V':{'in_': <pyorient.otypes.OrientBinaryObject object at 0x00000158AFA4AD90>, 'name': 'Arès', 'symbol': 'weapons'},'version':3,'rid':'#14:0'}\n",
      "{'@V':{'name': 'Zeus', 'symbol': 'thunder'},'version':1,'rid':'#15:0'}\n"
     ]
    }
   ],
   "source": [
    "for val in client.command(\"SELECT * FROM V\"):\n",
    "    print(val)"
   ]
  },
  {
   "cell_type": "markdown",
   "metadata": {},
   "source": [
    "**Q:** Create new vertices with content : \n",
    "```\n",
    "{name:Héra, symbol:tiara}\n",
    "{name:Poséidon, symbol:trident}\n",
    "{name:Athena, symbol:helmet}\n",
    "{name:Arès, symbol:weapons} \n",
    "```"
   ]
  },
  {
   "cell_type": "code",
   "execution_count": 11,
   "metadata": {},
   "outputs": [
    {
     "data": {
      "text/plain": [
       "[<pyorient.otypes.OrientRecord at 0x158afa46d60>]"
      ]
     },
     "execution_count": 11,
     "metadata": {},
     "output_type": "execute_result"
    }
   ],
   "source": [
    "client.command(\"create vertex content {'name': 'Héra', 'symbol': 'tiara'}\")\n",
    "client.command(\"create vertex content {'name': 'Poséidon', 'symbol': 'trident'}\")\n",
    "client.command(\"create vertex content {'name': 'Athena', 'symbol': 'helmet'}\")\n",
    "client.command(\"create vertex content {'name': 'Arès', 'symbol': 'weapons'}\")\n",
    "                              "
   ]
  },
  {
   "cell_type": "markdown",
   "metadata": {},
   "source": [
    "**Q:** Display all vertices with name = `Arès`"
   ]
  },
  {
   "cell_type": "code",
   "execution_count": 12,
   "metadata": {},
   "outputs": [
    {
     "name": "stdout",
     "output_type": "stream",
     "text": [
      "{'@V':{'in_': <pyorient.otypes.OrientBinaryObject object at 0x00000158AFA4A850>, 'name': 'Arès', 'symbol': 'weapons'},'version':3,'rid':'#14:0'}\n",
      "{'@V':{'name': 'Arès', 'symbol': 'weapons'},'version':1,'rid':'#19:0'}\n"
     ]
    }
   ],
   "source": [
    "# Define the query to select vertices with name = 'Arès'\n",
    "for val in client.command(\"SELECT * FROM V WHERE name='Arès'\"):\n",
    "    print(val)\n",
    "    "
   ]
  },
  {
   "cell_type": "code",
   "execution_count": 13,
   "metadata": {},
   "outputs": [
    {
     "name": "stdout",
     "output_type": "stream",
     "text": [
      "{'@V':{'in_': <pyorient.otypes.OrientBinaryObject object at 0x00000158AFA4A340>, 'out_': <pyorient.otypes.OrientBinaryObject object at 0x00000158AFA4AF70>, 'name': 'Zeus', 'symbol': 'thunder'},'version':7,'rid':'#9:0'}\n",
      "{'@V':{'in_': <pyorient.otypes.OrientBinaryObject object at 0x00000158AFA46BB0>, 'out_': <pyorient.otypes.OrientBinaryObject object at 0x00000158AFA46460>, 'name': 'Zeus', 'symbol': 'thunder'},'version':6,'rid':'#10:0'}\n",
      "{'@V':{'name': 'Zeus', 'symbol': 'thunder'},'version':1,'rid':'#15:0'}\n"
     ]
    }
   ],
   "source": [
    "# Define the query to select vertices with name = 'Zeus'\n",
    "for val in client.command(\"SELECT * FROM V WHERE name='Zeus'\"):\n",
    "    print(val)\n",
    "    "
   ]
  },
  {
   "cell_type": "code",
   "execution_count": 14,
   "metadata": {},
   "outputs": [
    {
     "name": "stdout",
     "output_type": "stream",
     "text": [
      "{'@V':{'name': 'Poséidon', 'symbol': 'trident', 'in_': <pyorient.otypes.OrientBinaryObject object at 0x00000158AFA46EE0>, 'out_': <pyorient.otypes.OrientBinaryObject object at 0x00000158AFA46BE0>},'version':3,'rid':'#12:0'}\n",
      "{'@V':{'name': 'Poséidon', 'symbol': 'trident'},'version':1,'rid':'#17:0'}\n"
     ]
    }
   ],
   "source": [
    "# Define the query to select vertices with name = 'Poseidon'\n",
    "for val in client.command(\"SELECT * FROM V WHERE name='Poséidon'\"):\n",
    "    print(val)\n",
    "    "
   ]
  },
  {
   "cell_type": "markdown",
   "metadata": {},
   "source": [
    "**Q:** Create an EDGE from `Zeus` to `Poséidon` with the content `{kind: 'sibling'}"
   ]
  },
  {
   "cell_type": "code",
   "execution_count": 15,
   "metadata": {},
   "outputs": [
    {
     "data": {
      "text/plain": [
       "[<pyorient.otypes.OrientRecord at 0x158ae2fc0a0>]"
      ]
     },
     "execution_count": 15,
     "metadata": {},
     "output_type": "execute_result"
    }
   ],
   "source": [
    "client.command(\"create edge from #9:0 to #12:0 content {kind: 'sibling'}\")"
   ]
  },
  {
   "cell_type": "markdown",
   "metadata": {},
   "source": [
    "**Q:** Redisplay all vertices, discuss."
   ]
  },
  {
   "cell_type": "code",
   "execution_count": 16,
   "metadata": {},
   "outputs": [
    {
     "name": "stdout",
     "output_type": "stream",
     "text": [
      "{'@V':{'out_': <pyorient.otypes.OrientBinaryObject object at 0x00000158AFA46670>, 'in_': <pyorient.otypes.OrientBinaryObject object at 0x00000158AFA46790>, 'name': 'Zeus', 'symbol': 'thunder'},'version':8,'rid':'#9:0'}\n",
      "{'@V':{'in_': <pyorient.otypes.OrientBinaryObject object at 0x00000158AFA4A160>, 'out_': <pyorient.otypes.OrientBinaryObject object at 0x00000158AFA4ACD0>, 'name': 'Zeus', 'symbol': 'thunder'},'version':6,'rid':'#10:0'}\n",
      "{'@V':{'out_': <pyorient.otypes.OrientBinaryObject object at 0x00000158AFA4A340>, 'name': 'Héra', 'symbol': 'tiara', 'in_': <pyorient.otypes.OrientBinaryObject object at 0x00000158AFA4AF10>},'version':4,'rid':'#11:0'}\n",
      "{'@V':{'in_': <pyorient.otypes.OrientBinaryObject object at 0x00000158AFA4A2B0>, 'name': 'Poséidon', 'symbol': 'trident', 'out_': <pyorient.otypes.OrientBinaryObject object at 0x00000158AFA4A700>},'version':4,'rid':'#12:0'}\n",
      "{'@V':{'name': 'Athena', 'symbol': 'helmet', 'in_': <pyorient.otypes.OrientBinaryObject object at 0x00000158AFA4AF40>},'version':2,'rid':'#13:0'}\n",
      "{'@V':{'in_': <pyorient.otypes.OrientBinaryObject object at 0x00000158AFA4D0D0>, 'name': 'Arès', 'symbol': 'weapons'},'version':3,'rid':'#14:0'}\n",
      "{'@V':{'name': 'Zeus', 'symbol': 'thunder'},'version':1,'rid':'#15:0'}\n",
      "{'@V':{'name': 'Héra', 'symbol': 'tiara'},'version':1,'rid':'#16:0'}\n",
      "{'@V':{'name': 'Poséidon', 'symbol': 'trident'},'version':1,'rid':'#17:0'}\n",
      "{'@V':{'name': 'Athena', 'symbol': 'helmet'},'version':1,'rid':'#18:0'}\n",
      "{'@V':{'name': 'Arès', 'symbol': 'weapons'},'version':1,'rid':'#19:0'}\n"
     ]
    }
   ],
   "source": [
    "for val in client.command(\"SELECT * FROM V \"):\n",
    "    print(val)"
   ]
  },
  {
   "cell_type": "markdown",
   "metadata": {},
   "source": [
    "**Q:** Display all edges. They are contained in the class `E`"
   ]
  },
  {
   "cell_type": "code",
   "execution_count": 17,
   "metadata": {},
   "outputs": [
    {
     "name": "stdout",
     "output_type": "stream",
     "text": [
      "{'kind': 'sibling', 'out': <pyorient.otypes.OrientRecordLink object at 0x00000158AFA4A370>, 'in': <pyorient.otypes.OrientRecordLink object at 0x00000158AFA4A610>}\n",
      "{'kind': 'sibling', 'out': <pyorient.otypes.OrientRecordLink object at 0x00000158AFA4AB80>, 'in': <pyorient.otypes.OrientRecordLink object at 0x00000158AFA4AE50>}\n",
      "{'kind': 'sibling', 'out': <pyorient.otypes.OrientRecordLink object at 0x00000158AFA4A2B0>, 'in': <pyorient.otypes.OrientRecordLink object at 0x00000158AFA4A580>}\n",
      "{'kind': 'sibling', 'out': <pyorient.otypes.OrientRecordLink object at 0x00000158AFA4ACD0>, 'in': <pyorient.otypes.OrientRecordLink object at 0x00000158AFA186D0>}\n",
      "{'kind': 'father', 'out': <pyorient.otypes.OrientRecordLink object at 0x00000158AFA4D160>, 'in': <pyorient.otypes.OrientRecordLink object at 0x00000158AFA4D0D0>}\n",
      "{'kind': 'father', 'out': <pyorient.otypes.OrientRecordLink object at 0x00000158AFA4D040>, 'in': <pyorient.otypes.OrientRecordLink object at 0x00000158AFA4D220>}\n",
      "{'kind': 'father', 'out': <pyorient.otypes.OrientRecordLink object at 0x00000158AFA4D310>, 'in': <pyorient.otypes.OrientRecordLink object at 0x00000158AFA4D370>}\n",
      "{'kind': 'father', 'out': <pyorient.otypes.OrientRecordLink object at 0x00000158AFA4D430>, 'in': <pyorient.otypes.OrientRecordLink object at 0x00000158AFA4D490>}\n",
      "{'kind': 'mother', 'out': <pyorient.otypes.OrientRecordLink object at 0x00000158AFA4D550>, 'in': <pyorient.otypes.OrientRecordLink object at 0x00000158AFA4D5B0>}\n",
      "{'kind': 'sibling', 'out': <pyorient.otypes.OrientRecordLink object at 0x00000158AFA4D670>, 'in': <pyorient.otypes.OrientRecordLink object at 0x00000158AFA4D6D0>}\n",
      "{'kind': 'sibling', 'out': <pyorient.otypes.OrientRecordLink object at 0x00000158AFA4D790>, 'in': <pyorient.otypes.OrientRecordLink object at 0x00000158AFA4D7F0>}\n",
      "{'kind': 'sibling', 'out': <pyorient.otypes.OrientRecordLink object at 0x00000158AFA4D8B0>, 'in': <pyorient.otypes.OrientRecordLink object at 0x00000158AFA4D910>}\n",
      "{'kind': 'sibling', 'out': <pyorient.otypes.OrientRecordLink object at 0x00000158AFA4D9D0>, 'in': <pyorient.otypes.OrientRecordLink object at 0x00000158AFA4DA30>}\n"
     ]
    }
   ],
   "source": [
    "query_edges = \"SELECT * FROM E\"\n",
    "\n",
    "# Execute the query to retrieve all edges\n",
    "result = client.query(query_edges)\n",
    "\n",
    "for record in result:\n",
    "    print(record.oRecordData)\n",
    "   "
   ]
  },
  {
   "cell_type": "markdown",
   "metadata": {},
   "source": [
    "Two fields on vertices have appeared, containing the outgoing (out_) and incoming (in_) links.\n",
    "\n",
    "At the edge level, two fields point to the original (out) and destination (in) vertices.\n",
    "\n",
    "**Q:** Lets create some more edges :\n",
    "\n",
    "* Zeus > Héra (sibling)\n",
    "* Zeus > Arès (father)\n",
    "* Zeus > Athena (father)\n",
    "* Héra > Arès (mother)\n",
    "* Héra > Zeus (sibling)\n",
    "* Poséidon > Zeus (sibling)\n",
    "\n",
    "_Hint 1 :_ check [the CREATE EDGE doc page](http://orientdb.com/docs/last/SQL-Create-Edge.html) to find an example for creating edges on vertices using subqueries so you can run queries to fetch the vertices before creating an edge in between.\n",
    "\n",
    "_Hint 2 :_ after you have found the command to create edges between vertices with sub-queries, you should be well-versed enough in Python to create a list of all edges in the question, and loop the command on each element of the list to create all edges in one go =)"
   ]
  },
  {
   "cell_type": "code",
   "execution_count": 18,
   "metadata": {},
   "outputs": [
    {
     "data": {
      "text/plain": [
       "[<pyorient.otypes.OrientRecord at 0x158afa4a820>,\n",
       " <pyorient.otypes.OrientRecord at 0x158ae3a66d0>,\n",
       " <pyorient.otypes.OrientRecord at 0x158afa46820>,\n",
       " <pyorient.otypes.OrientRecord at 0x158afa4dcd0>,\n",
       " <pyorient.otypes.OrientRecord at 0x158afa4e130>,\n",
       " <pyorient.otypes.OrientRecord at 0x158afa4e250>]"
      ]
     },
     "execution_count": 18,
     "metadata": {},
     "output_type": "execute_result"
    }
   ],
   "source": [
    "# Create edges using the CREATE EDGE command\n",
    "client.command(\"CREATE EDGE E FROM (SELECT * FROM V WHERE name = 'Zeus') TO (SELECT * FROM V  WHERE name = 'Héra') content {kind: 'sibling'}\")\n",
    "client.command(\"CREATE EDGE E  FROM (SELECT * FROM V WHERE name = 'Zeus') TO (SELECT * FROM V  WHERE name = 'Arès')  content {kind: 'father'}\")\n",
    "client.command(\"CREATE EDGE E  FROM (SELECT *  FROM V WHERE name = 'Zeus') TO (SELECT * FROM V  WHERE name = 'Athena')  content {kind: 'father'}\")\n",
    "client.command(\"CREATE EDGE E  FROM (SELECT *  FROM V WHERE name = 'Héra') TO (SELECT * FROM V  WHERE name = 'Arès') content {kind: 'mother'}\")\n",
    "client.command(\"CREATE EDGE E  FROM (SELECT  * FROM V WHERE name = 'Héra') TO (SELECT * FROM V  WHERE name = 'Zeus') content {kind: 'sibling'}\")\n",
    "client.command(\"CREATE EDGE E FROM (SELECT * FROM V WHERE name = 'Poséidon') TO (SELECT * FROM V WHERE name = 'Zeus') content {kind: 'sibling'}\")\n"
   ]
  },
  {
   "cell_type": "markdown",
   "metadata": {},
   "source": [
    "### Looking for data"
   ]
  },
  {
   "cell_type": "markdown",
   "metadata": {},
   "source": [
    "**Q:** Using [out()](http://orientdb.com/docs/last/Tutorial-Working-with-graphs.html#querying-graphs) function, display all vertices connected and outgoing from Zeus.\n",
    "\n",
    "You should use the EXPAND() special function to transform the vertex collection in the result-set by expanding it, making the results more readable."
   ]
  },
  {
   "cell_type": "code",
   "execution_count": 19,
   "metadata": {},
   "outputs": [
    {
     "name": "stdout",
     "output_type": "stream",
     "text": [
      "{{'out': [<pyorient.otypes.OrientRecordLink object at 0x00000158AFA4DB20>, <pyorient.otypes.OrientRecordLink object at 0x00000158AFA4DB50>, <pyorient.otypes.OrientRecordLink object at 0x00000158AFA46CA0>, <pyorient.otypes.OrientRecordLink object at 0x00000158AFA46D00>, <pyorient.otypes.OrientRecordLink object at 0x00000158AFA46370>, <pyorient.otypes.OrientRecordLink object at 0x00000158AFA4AEE0>, <pyorient.otypes.OrientRecordLink object at 0x00000158AFA4A280>, <pyorient.otypes.OrientRecordLink object at 0x00000158AFA4A1F0>, <pyorient.otypes.OrientRecordLink object at 0x00000158AFA4AB50>, <pyorient.otypes.OrientRecordLink object at 0x00000158AE3A67C0>, <pyorient.otypes.OrientRecordLink object at 0x00000158AFA4E640>]},'version':0,'rid':'#-2:0'}\n",
      "{{'out': [<pyorient.otypes.OrientRecordLink object at 0x00000158AFA4E490>, <pyorient.otypes.OrientRecordLink object at 0x00000158AFA4E550>, <pyorient.otypes.OrientRecordLink object at 0x00000158AFA4E580>, <pyorient.otypes.OrientRecordLink object at 0x00000158AFA4E520>, <pyorient.otypes.OrientRecordLink object at 0x00000158AFA4E6A0>, <pyorient.otypes.OrientRecordLink object at 0x00000158AFA4E760>, <pyorient.otypes.OrientRecordLink object at 0x00000158AFA4E820>, <pyorient.otypes.OrientRecordLink object at 0x00000158AFA4E7C0>, <pyorient.otypes.OrientRecordLink object at 0x00000158AFA4E700>]},'version':0,'rid':'#-2:1'}\n",
      "{{'out': [<pyorient.otypes.OrientRecordLink object at 0x00000158AFA4E8E0>, <pyorient.otypes.OrientRecordLink object at 0x00000158AFA4E940>, <pyorient.otypes.OrientRecordLink object at 0x00000158AFA4E9A0>, <pyorient.otypes.OrientRecordLink object at 0x00000158AFA4EA00>, <pyorient.otypes.OrientRecordLink object at 0x00000158AFA4EA60>, <pyorient.otypes.OrientRecordLink object at 0x00000158AFA4EAC0>]},'version':0,'rid':'#-2:2'}\n"
     ]
    }
   ],
   "source": [
    "# Define the query to select outgoing vertices from Zeus and expand the result\n",
    "for val in client.command(\"select out() FROM V WHERE name='Zeus'\"):\n",
    "    print(val)\n"
   ]
  },
  {
   "cell_type": "markdown",
   "metadata": {},
   "source": [
    "**Q:** Display all vertices which got a father (the vertices which are the destination of an arc whose kind attribute is father).\n",
    "\n",
    "_Hint: You can notice that we use the field `in` the arc, and not the function `in()` which applies to vertices._"
   ]
  },
  {
   "cell_type": "code",
   "execution_count": 20,
   "metadata": {},
   "outputs": [
    {
     "name": "stdout",
     "output_type": "stream",
     "text": [
      "{'in_': <pyorient.otypes.OrientBinaryObject object at 0x00000158AFA4AFD0>, 'name': 'Arès', 'symbol': 'weapons'}\n",
      "{'name': 'Athena', 'symbol': 'helmet', 'in_': <pyorient.otypes.OrientBinaryObject object at 0x00000158AFA4DE80>}\n",
      "{'in_': <pyorient.otypes.OrientBinaryObject object at 0x00000158AFA4DBB0>, 'name': 'Athena', 'symbol': 'helmet'}\n",
      "{'in_': <pyorient.otypes.OrientBinaryObject object at 0x00000158AFA46190>, 'name': 'Arès', 'symbol': 'weapons'}\n",
      "{'name': 'Athena', 'symbol': 'helmet', 'in_': <pyorient.otypes.OrientBinaryObject object at 0x00000158AFA4E370>}\n",
      "{'in_': <pyorient.otypes.OrientBinaryObject object at 0x00000158AFA4E490>, 'name': 'Arès', 'symbol': 'weapons'}\n",
      "{'in_': <pyorient.otypes.OrientBinaryObject object at 0x00000158AFA4E790>, 'name': 'Athena', 'symbol': 'helmet'}\n",
      "{'in_': <pyorient.otypes.OrientBinaryObject object at 0x00000158AFA4E730>, 'name': 'Athena', 'symbol': 'helmet'}\n",
      "{'name': 'Athena', 'symbol': 'helmet', 'in_': <pyorient.otypes.OrientBinaryObject object at 0x00000158AFA4E7C0>}\n",
      "{'in_': <pyorient.otypes.OrientBinaryObject object at 0x00000158AFA4E880>, 'name': 'Athena', 'symbol': 'helmet'}\n",
      "{'in_': <pyorient.otypes.OrientBinaryObject object at 0x00000158AFA4EBB0>, 'name': 'Athena', 'symbol': 'helmet'}\n",
      "{'in_': <pyorient.otypes.OrientBinaryObject object at 0x00000158AFA4EC70>, 'name': 'Arès', 'symbol': 'weapons'}\n",
      "{'in_': <pyorient.otypes.OrientBinaryObject object at 0x00000158AFA4ED30>, 'name': 'Arès', 'symbol': 'weapons'}\n",
      "{'in_': <pyorient.otypes.OrientBinaryObject object at 0x00000158AFA4EDF0>, 'name': 'Arès', 'symbol': 'weapons'}\n",
      "{'in_': <pyorient.otypes.OrientBinaryObject object at 0x00000158AFA4EEB0>, 'name': 'Arès', 'symbol': 'weapons'}\n",
      "{'in_': <pyorient.otypes.OrientBinaryObject object at 0x00000158AFA4EF70>, 'name': 'Arès', 'symbol': 'weapons'}\n"
     ]
    }
   ],
   "source": [
    "query_edges = \"SELECT expand(in) FROM E where kind= 'father' \"\n",
    "\n",
    "# Execute the query to retrieve all edges\n",
    "result = client.query(query_edges)\n",
    "\n",
    "for record in result:\n",
    "    print(record.oRecordData)"
   ]
  },
  {
   "cell_type": "markdown",
   "metadata": {},
   "source": [
    "**Q:** As in SQL, the operator `in` used in a clause `where` allows to restrict the possible values with an embedded query _(where ... in (select ...))_. \n",
    "\n",
    "Display the mothers, by displaying the vertices where an outgoing arc is part of the arcs where kind is a mother."
   ]
  },
  {
   "cell_type": "code",
   "execution_count": 21,
   "metadata": {},
   "outputs": [
    {
     "name": "stdout",
     "output_type": "stream",
     "text": [
      "{'out_': <pyorient.otypes.OrientBinaryObject object at 0x00000158AFA4DB50>, 'in_': <pyorient.otypes.OrientBinaryObject object at 0x00000158AFA4DFD0>, 'name': 'Héra', 'symbol': 'tiara'}\n",
      "{'out_': <pyorient.otypes.OrientBinaryObject object at 0x00000158AFA4DC40>, 'name': 'Héra', 'symbol': 'tiara', 'in_': <pyorient.otypes.OrientBinaryObject object at 0x00000158AFA4DDF0>}\n"
     ]
    }
   ],
   "source": [
    "# Define the query to select vertices where an outgoing arc is of kind 'mother'\n",
    "query_mother_vertices = \"SELECT from V where out_ in (select from E where kind='mother')\"\n",
    "\n",
    "# Execute the query\n",
    "result_mother_vertices = client.query(query_mother_vertices)\n",
    "\n",
    "# Print the results\n",
    "for record in result_mother_vertices:\n",
    "    print(record.oRecordData)"
   ]
  },
  {
   "cell_type": "markdown",
   "metadata": {},
   "source": [
    "**Q:** Display the brothers and sisters of Zeus (the destination summits of an arc whose kind is sibling and whose original summit is Zeus)."
   ]
  },
  {
   "cell_type": "code",
   "execution_count": 22,
   "metadata": {},
   "outputs": [
    {
     "name": "stdout",
     "output_type": "stream",
     "text": [
      "{'out_': <pyorient.otypes.OrientBinaryObject object at 0x00000158AFA4D0D0>, 'in_': <pyorient.otypes.OrientBinaryObject object at 0x00000158AFA4DA00>, 'name': 'Poséidon', 'symbol': 'trident'}\n",
      "{'out_': <pyorient.otypes.OrientBinaryObject object at 0x00000158AFA4DC10>, 'in_': <pyorient.otypes.OrientBinaryObject object at 0x00000158AFA4DD30>, 'name': 'Poséidon', 'symbol': 'trident'}\n",
      "{'out_': <pyorient.otypes.OrientBinaryObject object at 0x00000158AFA4D970>, 'in_': <pyorient.otypes.OrientBinaryObject object at 0x00000158AFA4D280>, 'name': 'Héra', 'symbol': 'tiara'}\n",
      "{'out_': <pyorient.otypes.OrientBinaryObject object at 0x00000158AFA4D160>, 'name': 'Héra', 'symbol': 'tiara', 'in_': <pyorient.otypes.OrientBinaryObject object at 0x00000158AFA4DE20>}\n",
      "{'out_': <pyorient.otypes.OrientBinaryObject object at 0x00000158AFA4D0A0>, 'in_': <pyorient.otypes.OrientBinaryObject object at 0x00000158AFA4D2E0>, 'name': 'Héra', 'symbol': 'tiara'}\n",
      "{'out_': <pyorient.otypes.OrientBinaryObject object at 0x00000158AFA4D340>, 'in_': <pyorient.otypes.OrientBinaryObject object at 0x00000158AFA4D400>, 'name': 'Héra', 'symbol': 'tiara'}\n",
      "{'out_': <pyorient.otypes.OrientBinaryObject object at 0x00000158AFA4D460>, 'name': 'Héra', 'symbol': 'tiara', 'in_': <pyorient.otypes.OrientBinaryObject object at 0x00000158AFA4D520>}\n",
      "{'out_': <pyorient.otypes.OrientBinaryObject object at 0x00000158AFA4D580>, 'in_': <pyorient.otypes.OrientBinaryObject object at 0x00000158AFA4D640>, 'name': 'Héra', 'symbol': 'tiara'}\n",
      "{'out_': <pyorient.otypes.OrientBinaryObject object at 0x00000158AFA4D6A0>, 'name': 'Héra', 'symbol': 'tiara', 'in_': <pyorient.otypes.OrientBinaryObject object at 0x00000158AFA4D760>}\n",
      "{'out_': <pyorient.otypes.OrientBinaryObject object at 0x00000158AFA4D7C0>, 'in_': <pyorient.otypes.OrientBinaryObject object at 0x00000158AFA4D880>, 'name': 'Héra', 'symbol': 'tiara'}\n"
     ]
    }
   ],
   "source": [
    "query_siblings=\"SELECT expand(in) from E where kind='sibling' and out in (select from V where name='Zeus')\"\n",
    "\n",
    "result_siblings= client.query(query_siblings)\n",
    "\n",
    "# Print the results\n",
    "for record in result_siblings:\n",
    "    print(record.oRecordData)\n"
   ]
  },
  {
   "cell_type": "markdown",
   "metadata": {},
   "source": [
    "## Modeling a Product Recommendation System"
   ]
  },
  {
   "cell_type": "markdown",
   "metadata": {},
   "source": [
    "You are currently modeling the data of a product recommendation system with OrientDB.\n",
    "\n",
    "The main purpose of such a system is to answer the question \"which products were purchased by their people who purchased product X? »\n",
    "\n",
    "Purchased products have only one name field. They are purchased by people who have a nickname.\n",
    "\n",
    "When a person buys a product, the date of purchase is stored. \n",
    "\n",
    "Instead of working with \"anonymous\" vertices and arcs, you will use classes. The `create class` command allows you to create custom classes.\n",
    "\n",
    "The vertex classes must extend V, the arc classes must extend E."
   ]
  },
  {
   "cell_type": "markdown",
   "metadata": {},
   "source": [
    "**Q:** Create an `eCommerce` database, and the necessary classes to model the system.\n",
    "\n",
    "PS : you can view all classes in the database with :\n",
    "\n",
    "```python\n",
    "for name in client.command(\"SELECT name FROM (SELECT expand(classes) FROM metadata:schema)\"):\n",
    "    print(name)\n",
    "```"
   ]
  },
  {
   "cell_type": "code",
   "execution_count": 23,
   "metadata": {},
   "outputs": [
    {
     "name": "stderr",
     "output_type": "stream",
     "text": [
      "C:\\Users\\ndieng1\\.conda\\envs\\nosql\\lib\\site-packages\\pyorient\\messages\\base.py:259: SyntaxWarning: \"is not\" with a literal. Did you mean \"!=\"?\n",
      "  if len(_continue) is not 0:\n",
      "C:\\Users\\ndieng1\\.conda\\envs\\nosql\\lib\\site-packages\\pyorient\\messages\\base.py:264: SyntaxWarning: \"is\" with a literal. Did you mean \"==\"?\n",
      "  elif len(self._body) is 0:\n",
      "C:\\Users\\ndieng1\\.conda\\envs\\nosql\\lib\\site-packages\\pyorient\\messages\\base.py:464: SyntaxWarning: \"is\" with a literal. Did you mean \"==\"?\n",
      "  if marker is -2:\n",
      "C:\\Users\\ndieng1\\.conda\\envs\\nosql\\lib\\site-packages\\pyorient\\messages\\base.py:466: SyntaxWarning: \"is\" with a literal. Did you mean \"==\"?\n",
      "  elif marker is -3:\n",
      "C:\\Users\\ndieng1\\.conda\\envs\\nosql\\lib\\site-packages\\pyorient\\messages\\base.py:259: SyntaxWarning: \"is not\" with a literal. Did you mean \"!=\"?\n",
      "  if len(_continue) is not 0:\n",
      "C:\\Users\\ndieng1\\.conda\\envs\\nosql\\lib\\site-packages\\pyorient\\messages\\base.py:264: SyntaxWarning: \"is\" with a literal. Did you mean \"==\"?\n",
      "  elif len(self._body) is 0:\n",
      "C:\\Users\\ndieng1\\.conda\\envs\\nosql\\lib\\site-packages\\pyorient\\messages\\base.py:464: SyntaxWarning: \"is\" with a literal. Did you mean \"==\"?\n",
      "  if marker is -2:\n",
      "C:\\Users\\ndieng1\\.conda\\envs\\nosql\\lib\\site-packages\\pyorient\\messages\\base.py:466: SyntaxWarning: \"is\" with a literal. Did you mean \"==\"?\n",
      "  elif marker is -3:\n",
      "C:\\Users\\ndieng1\\.conda\\envs\\nosql\\lib\\site-packages\\pyorient\\messages\\base.py:259: SyntaxWarning: \"is not\" with a literal. Did you mean \"!=\"?\n",
      "  if len(_continue) is not 0:\n",
      "C:\\Users\\ndieng1\\.conda\\envs\\nosql\\lib\\site-packages\\pyorient\\messages\\base.py:264: SyntaxWarning: \"is\" with a literal. Did you mean \"==\"?\n",
      "  elif len(self._body) is 0:\n",
      "C:\\Users\\ndieng1\\.conda\\envs\\nosql\\lib\\site-packages\\pyorient\\messages\\base.py:464: SyntaxWarning: \"is\" with a literal. Did you mean \"==\"?\n",
      "  if marker is -2:\n",
      "C:\\Users\\ndieng1\\.conda\\envs\\nosql\\lib\\site-packages\\pyorient\\messages\\base.py:466: SyntaxWarning: \"is\" with a literal. Did you mean \"==\"?\n",
      "  elif marker is -3:\n",
      "C:\\Users\\ndieng1\\.conda\\envs\\nosql\\lib\\site-packages\\pyorient\\messages\\base.py:259: SyntaxWarning: \"is not\" with a literal. Did you mean \"!=\"?\n",
      "  if len(_continue) is not 0:\n",
      "C:\\Users\\ndieng1\\.conda\\envs\\nosql\\lib\\site-packages\\pyorient\\messages\\base.py:264: SyntaxWarning: \"is\" with a literal. Did you mean \"==\"?\n",
      "  elif len(self._body) is 0:\n",
      "C:\\Users\\ndieng1\\.conda\\envs\\nosql\\lib\\site-packages\\pyorient\\messages\\base.py:464: SyntaxWarning: \"is\" with a literal. Did you mean \"==\"?\n",
      "  if marker is -2:\n",
      "C:\\Users\\ndieng1\\.conda\\envs\\nosql\\lib\\site-packages\\pyorient\\messages\\base.py:466: SyntaxWarning: \"is\" with a literal. Did you mean \"==\"?\n",
      "  elif marker is -3:\n"
     ]
    },
    {
     "ename": "PyOrientDatabaseException",
     "evalue": "com.orientechnologies.orient.core.exception.ODatabaseException - Database named 'eCommerce' already exists: eCommerce\r\n\tDB name=\"gods\"",
     "output_type": "error",
     "traceback": [
      "\u001b[1;31m---------------------------------------------------------------------------\u001b[0m",
      "\u001b[1;31mPyOrientDatabaseException\u001b[0m                 Traceback (most recent call last)",
      "Cell \u001b[1;32mIn[23], line 2\u001b[0m\n\u001b[0;32m      1\u001b[0m \u001b[38;5;66;03m# Create the eCommerce database\u001b[39;00m\n\u001b[1;32m----> 2\u001b[0m \u001b[43mclient\u001b[49m\u001b[38;5;241;43m.\u001b[39;49m\u001b[43mdb_create\u001b[49m\u001b[43m(\u001b[49m\u001b[38;5;124;43m\"\u001b[39;49m\u001b[38;5;124;43meCommerce\u001b[39;49m\u001b[38;5;124;43m\"\u001b[39;49m\u001b[43m,\u001b[49m\u001b[43m \u001b[49m\u001b[43mpyorient\u001b[49m\u001b[38;5;241;43m.\u001b[39;49m\u001b[43mDB_TYPE_GRAPH\u001b[49m\u001b[43m,\u001b[49m\u001b[43m \u001b[49m\u001b[43mpyorient\u001b[49m\u001b[38;5;241;43m.\u001b[39;49m\u001b[43mSTORAGE_TYPE_MEMORY\u001b[49m\u001b[43m)\u001b[49m\n",
      "File \u001b[1;32m~\\.conda\\envs\\nosql\\lib\\site-packages\\pyorient\\orient.py:363\u001b[0m, in \u001b[0;36mOrientDB.db_create\u001b[1;34m(self, name, type, storage)\u001b[0m\n\u001b[0;32m    344\u001b[0m \u001b[38;5;28;01mdef\u001b[39;00m \u001b[38;5;21mdb_create\u001b[39m(\u001b[38;5;28mself\u001b[39m, name, \u001b[38;5;28mtype\u001b[39m\u001b[38;5;241m=\u001b[39mDB_TYPE_DOCUMENT, storage\u001b[38;5;241m=\u001b[39mSTORAGE_TYPE_PLOCAL):\n\u001b[0;32m    345\u001b[0m \u001b[38;5;250m    \u001b[39m\u001b[38;5;124;03m'''Creates a database in the remote OrientDB server instance.\u001b[39;00m\n\u001b[0;32m    346\u001b[0m \n\u001b[0;32m    347\u001b[0m \u001b[38;5;124;03m    :param name: the name of the database to create. Example: \"MyDatabase\".\u001b[39;00m\n\u001b[1;32m   (...)\u001b[0m\n\u001b[0;32m    361\u001b[0m \u001b[38;5;124;03m        >>> client.db_create('test')\u001b[39;00m\n\u001b[0;32m    362\u001b[0m \u001b[38;5;124;03m    '''\u001b[39;00m\n\u001b[1;32m--> 363\u001b[0m     \u001b[38;5;28;43mself\u001b[39;49m\u001b[38;5;241;43m.\u001b[39;49m\u001b[43mget_message\u001b[49m\u001b[43m(\u001b[49m\u001b[38;5;124;43m\"\u001b[39;49m\u001b[38;5;124;43mDbCreateMessage\u001b[39;49m\u001b[38;5;124;43m\"\u001b[39;49m\u001b[43m)\u001b[49m\u001b[43m \u001b[49m\u001b[43m\\\u001b[49m\n\u001b[0;32m    364\u001b[0m \u001b[43m        \u001b[49m\u001b[38;5;241;43m.\u001b[39;49m\u001b[43mprepare\u001b[49m\u001b[43m(\u001b[49m\u001b[43m(\u001b[49m\u001b[43mname\u001b[49m\u001b[43m,\u001b[49m\u001b[43m \u001b[49m\u001b[38;5;28;43mtype\u001b[39;49m\u001b[43m,\u001b[49m\u001b[43m \u001b[49m\u001b[43mstorage\u001b[49m\u001b[43m)\u001b[49m\u001b[43m)\u001b[49m\u001b[38;5;241;43m.\u001b[39;49m\u001b[43msend\u001b[49m\u001b[43m(\u001b[49m\u001b[43m)\u001b[49m\u001b[38;5;241;43m.\u001b[39;49m\u001b[43mfetch_response\u001b[49m\u001b[43m(\u001b[49m\u001b[43m)\u001b[49m\n\u001b[0;32m    365\u001b[0m     \u001b[38;5;28;01mreturn\u001b[39;00m \u001b[38;5;28;01mNone\u001b[39;00m\n",
      "File \u001b[1;32m~\\.conda\\envs\\nosql\\lib\\site-packages\\pyorient\\messages\\database.py:337\u001b[0m, in \u001b[0;36mDbCreateMessage.fetch_response\u001b[1;34m(self)\u001b[0m\n\u001b[0;32m    336\u001b[0m \u001b[38;5;28;01mdef\u001b[39;00m \u001b[38;5;21mfetch_response\u001b[39m(\u001b[38;5;28mself\u001b[39m):\n\u001b[1;32m--> 337\u001b[0m     \u001b[38;5;28;43msuper\u001b[39;49m\u001b[43m(\u001b[49m\u001b[43mDbCreateMessage\u001b[49m\u001b[43m,\u001b[49m\u001b[43m \u001b[49m\u001b[38;5;28;43mself\u001b[39;49m\u001b[43m)\u001b[49m\u001b[38;5;241;43m.\u001b[39;49m\u001b[43mfetch_response\u001b[49m\u001b[43m(\u001b[49m\u001b[43m)\u001b[49m\n\u001b[0;32m    338\u001b[0m     \u001b[38;5;66;03m# set database opened\u001b[39;00m\n\u001b[0;32m    339\u001b[0m     \u001b[38;5;28mself\u001b[39m\u001b[38;5;241m.\u001b[39m_orientSocket\u001b[38;5;241m.\u001b[39mdb_opened \u001b[38;5;241m=\u001b[39m \u001b[38;5;28mself\u001b[39m\u001b[38;5;241m.\u001b[39m_db_name\n",
      "File \u001b[1;32m~\\.conda\\envs\\nosql\\lib\\site-packages\\pyorient\\messages\\base.py:265\u001b[0m, in \u001b[0;36mBaseMessage.fetch_response\u001b[1;34m(self, *_continue)\u001b[0m\n\u001b[0;32m    263\u001b[0m \u001b[38;5;66;03m# already fetched, get last results as cache info\u001b[39;00m\n\u001b[0;32m    264\u001b[0m \u001b[38;5;28;01melif\u001b[39;00m \u001b[38;5;28mlen\u001b[39m(\u001b[38;5;28mself\u001b[39m\u001b[38;5;241m.\u001b[39m_body) \u001b[38;5;129;01mis\u001b[39;00m \u001b[38;5;241m0\u001b[39m:\n\u001b[1;32m--> 265\u001b[0m     \u001b[38;5;28;43mself\u001b[39;49m\u001b[38;5;241;43m.\u001b[39;49m\u001b[43m_decode_all\u001b[49m\u001b[43m(\u001b[49m\u001b[43m)\u001b[49m\n\u001b[0;32m    266\u001b[0m     \u001b[38;5;28mself\u001b[39m\u001b[38;5;241m.\u001b[39mdump_streams()\n\u001b[0;32m    267\u001b[0m \u001b[38;5;28;01mreturn\u001b[39;00m \u001b[38;5;28mself\u001b[39m\u001b[38;5;241m.\u001b[39m_body\n",
      "File \u001b[1;32m~\\.conda\\envs\\nosql\\lib\\site-packages\\pyorient\\messages\\base.py:249\u001b[0m, in \u001b[0;36mBaseMessage._decode_all\u001b[1;34m(self)\u001b[0m\n\u001b[0;32m    248\u001b[0m \u001b[38;5;28;01mdef\u001b[39;00m \u001b[38;5;21m_decode_all\u001b[39m(\u001b[38;5;28mself\u001b[39m):\n\u001b[1;32m--> 249\u001b[0m     \u001b[38;5;28;43mself\u001b[39;49m\u001b[38;5;241;43m.\u001b[39;49m\u001b[43m_decode_header\u001b[49m\u001b[43m(\u001b[49m\u001b[43m)\u001b[49m\n\u001b[0;32m    250\u001b[0m     \u001b[38;5;28mself\u001b[39m\u001b[38;5;241m.\u001b[39m_decode_body()\n",
      "File \u001b[1;32m~\\.conda\\envs\\nosql\\lib\\site-packages\\pyorient\\messages\\base.py:180\u001b[0m, in \u001b[0;36mBaseMessage._decode_header\u001b[1;34m(self)\u001b[0m\n\u001b[0;32m    177\u001b[0m             \u001b[38;5;66;03m# trash\u001b[39;00m\n\u001b[0;32m    178\u001b[0m             \u001b[38;5;28;01mdel\u001b[39;00m serialized_exception\n\u001b[1;32m--> 180\u001b[0m     \u001b[38;5;28;01mraise\u001b[39;00m PyOrientCommandException(\n\u001b[0;32m    181\u001b[0m         exception_class\u001b[38;5;241m.\u001b[39mdecode( \u001b[38;5;124m'\u001b[39m\u001b[38;5;124mutf8\u001b[39m\u001b[38;5;124m'\u001b[39m ),\n\u001b[0;32m    182\u001b[0m         [ exception_message\u001b[38;5;241m.\u001b[39mdecode( \u001b[38;5;124m'\u001b[39m\u001b[38;5;124mutf8\u001b[39m\u001b[38;5;124m'\u001b[39m ) ]\n\u001b[0;32m    183\u001b[0m     )\n\u001b[0;32m    185\u001b[0m \u001b[38;5;28;01melif\u001b[39;00m \u001b[38;5;28mself\u001b[39m\u001b[38;5;241m.\u001b[39m_header[\u001b[38;5;241m0\u001b[39m] \u001b[38;5;241m==\u001b[39m \u001b[38;5;241m3\u001b[39m:\n\u001b[0;32m    186\u001b[0m     \u001b[38;5;66;03m# Push notification, Node cluster changed\u001b[39;00m\n\u001b[0;32m    187\u001b[0m     \u001b[38;5;66;03m# TODO: UNTESTED CODE!!!\u001b[39;00m\n\u001b[0;32m    188\u001b[0m     \u001b[38;5;66;03m# FIELD_BYTE (OChannelBinaryProtocol.PUSH_DATA);  # WRITE 3\u001b[39;00m\n\u001b[0;32m    189\u001b[0m     \u001b[38;5;66;03m# FIELD_INT (Integer.MIN_VALUE);  # SESSION ID = 2^-31\u001b[39;00m\n\u001b[0;32m    190\u001b[0m     \u001b[38;5;66;03m# 80: \\x50 Request Push 1 byte: Push command id\u001b[39;00m\n\u001b[0;32m    191\u001b[0m     push_command_id \u001b[38;5;241m=\u001b[39m \u001b[38;5;28mself\u001b[39m\u001b[38;5;241m.\u001b[39m_decode_field(FIELD_BYTE)\n",
      "\u001b[1;31mPyOrientDatabaseException\u001b[0m: com.orientechnologies.orient.core.exception.ODatabaseException - Database named 'eCommerce' already exists: eCommerce\r\n\tDB name=\"gods\""
     ]
    }
   ],
   "source": [
    "# Create the eCommerce database\n",
    "client.db_create(\"eCommerce\", pyorient.DB_TYPE_GRAPH, pyorient.STORAGE_TYPE_MEMORY)\n",
    "\n"
   ]
  },
  {
   "cell_type": "code",
   "execution_count": 5,
   "metadata": {},
   "outputs": [
    {
     "data": {
      "text/plain": [
       "[<pyorient.otypes.OrientCluster at 0x1dac1dc8a60>,\n",
       " <pyorient.otypes.OrientCluster at 0x1dac1dc8be0>,\n",
       " <pyorient.otypes.OrientCluster at 0x1dac1dc8cd0>,\n",
       " <pyorient.otypes.OrientCluster at 0x1dac1dc88e0>,\n",
       " <pyorient.otypes.OrientCluster at 0x1dac1dc8940>,\n",
       " <pyorient.otypes.OrientCluster at 0x1dac1db2310>,\n",
       " <pyorient.otypes.OrientCluster at 0x1dac1db2a60>,\n",
       " <pyorient.otypes.OrientCluster at 0x1dac1d28b20>,\n",
       " <pyorient.otypes.OrientCluster at 0x1dac1d3c3d0>,\n",
       " <pyorient.otypes.OrientCluster at 0x1dac1d3cdc0>,\n",
       " <pyorient.otypes.OrientCluster at 0x1dac1d3cd30>,\n",
       " <pyorient.otypes.OrientCluster at 0x1dac305bc40>,\n",
       " <pyorient.otypes.OrientCluster at 0x1dac305b4f0>,\n",
       " <pyorient.otypes.OrientCluster at 0x1dac3065100>,\n",
       " <pyorient.otypes.OrientCluster at 0x1dac30314f0>,\n",
       " <pyorient.otypes.OrientCluster at 0x1dac1f44760>,\n",
       " <pyorient.otypes.OrientCluster at 0x1dac2f95460>,\n",
       " <pyorient.otypes.OrientCluster at 0x1dac30151f0>,\n",
       " <pyorient.otypes.OrientCluster at 0x1dac30266a0>,\n",
       " <pyorient.otypes.OrientCluster at 0x1dac3020fd0>,\n",
       " <pyorient.otypes.OrientCluster at 0x1dac31290a0>,\n",
       " <pyorient.otypes.OrientCluster at 0x1dac1f76700>,\n",
       " <pyorient.otypes.OrientCluster at 0x1dac3010430>,\n",
       " <pyorient.otypes.OrientCluster at 0x1dac30100d0>,\n",
       " <pyorient.otypes.OrientCluster at 0x1dac1f20940>,\n",
       " <pyorient.otypes.OrientCluster at 0x1dac1f20040>,\n",
       " <pyorient.otypes.OrientCluster at 0x1dac1f202e0>,\n",
       " <pyorient.otypes.OrientCluster at 0x1dac30a3790>,\n",
       " <pyorient.otypes.OrientCluster at 0x1dac30c4820>,\n",
       " <pyorient.otypes.OrientCluster at 0x1dac30adbb0>,\n",
       " <pyorient.otypes.OrientCluster at 0x1dac30b9760>,\n",
       " <pyorient.otypes.OrientCluster at 0x1dac30a86a0>,\n",
       " <pyorient.otypes.OrientCluster at 0x1dac309d3a0>,\n",
       " <pyorient.otypes.OrientCluster at 0x1dac1d3a790>,\n",
       " <pyorient.otypes.OrientCluster at 0x1dac3096df0>,\n",
       " <pyorient.otypes.OrientCluster at 0x1dac3092550>,\n",
       " <pyorient.otypes.OrientCluster at 0x1dac30927f0>,\n",
       " <pyorient.otypes.OrientCluster at 0x1dac308cac0>,\n",
       " <pyorient.otypes.OrientCluster at 0x1dac308c1f0>,\n",
       " <pyorient.otypes.OrientCluster at 0x1dac3082d00>,\n",
       " <pyorient.otypes.OrientCluster at 0x1dac30603a0>,\n",
       " <pyorient.otypes.OrientCluster at 0x1dac1f7aeb0>,\n",
       " <pyorient.otypes.OrientCluster at 0x1dac1f7aaf0>,\n",
       " <pyorient.otypes.OrientCluster at 0x1dac1f7a370>,\n",
       " <pyorient.otypes.OrientCluster at 0x1dac1f801c0>,\n",
       " <pyorient.otypes.OrientCluster at 0x1dac1fb7190>,\n",
       " <pyorient.otypes.OrientCluster at 0x1dac1dd9610>,\n",
       " <pyorient.otypes.OrientCluster at 0x1dac1dd9640>,\n",
       " <pyorient.otypes.OrientCluster at 0x1dac1dd9d60>,\n",
       " <pyorient.otypes.OrientCluster at 0x1dac1dd9df0>,\n",
       " <pyorient.otypes.OrientCluster at 0x1dac2fbc280>,\n",
       " <pyorient.otypes.OrientCluster at 0x1dac2fa6fd0>,\n",
       " <pyorient.otypes.OrientCluster at 0x1dac1f5f520>,\n",
       " <pyorient.otypes.OrientCluster at 0x1dac301b610>,\n",
       " <pyorient.otypes.OrientCluster at 0x1dac3037d30>,\n",
       " <pyorient.otypes.OrientCluster at 0x1dac1f181c0>,\n",
       " <pyorient.otypes.OrientCluster at 0x1dac1f188e0>,\n",
       " <pyorient.otypes.OrientCluster at 0x1dac1f18310>,\n",
       " <pyorient.otypes.OrientCluster at 0x1dac1f18520>,\n",
       " <pyorient.otypes.OrientCluster at 0x1dac1f184c0>,\n",
       " <pyorient.otypes.OrientCluster at 0x1dac1f18d30>,\n",
       " <pyorient.otypes.OrientCluster at 0x1dac2fc2280>,\n",
       " <pyorient.otypes.OrientCluster at 0x1dac1f0f0d0>,\n",
       " <pyorient.otypes.OrientCluster at 0x1dac1f0f0a0>,\n",
       " <pyorient.otypes.OrientCluster at 0x1dac1f0f130>,\n",
       " <pyorient.otypes.OrientCluster at 0x1dac1f1ed30>,\n",
       " <pyorient.otypes.OrientCluster at 0x1dac1f1ee50>,\n",
       " <pyorient.otypes.OrientCluster at 0x1dac1f1ef70>,\n",
       " <pyorient.otypes.OrientCluster at 0x1dac1f1e7f0>,\n",
       " <pyorient.otypes.OrientCluster at 0x1dac1f1e910>]"
      ]
     },
     "execution_count": 5,
     "metadata": {},
     "output_type": "execute_result"
    }
   ],
   "source": [
    "# Switch to the eCommerce database\n",
    "client.db_open(\"eCommerce\", \"root\", ROOT_PASSWORD)\n"
   ]
  },
  {
   "cell_type": "code",
   "execution_count": 24,
   "metadata": {},
   "outputs": [
    {
     "data": {
      "text/plain": [
       "[1]"
      ]
     },
     "execution_count": 24,
     "metadata": {},
     "output_type": "execute_result"
    }
   ],
   "source": [
    "# Create classes for Product, Customer, and Purchase\n",
    "client.command(\"CREATE CLASS Product EXTENDS V\")\n",
    "client.command(\"CREATE PROPERTY Product.name STRING\")\n",
    "\n",
    "client.command(\"CREATE CLASS Customer EXTENDS V\")\n",
    "client.command(\"CREATE PROPERTY Customer.nickname STRING\")\n",
    "\n",
    "client.command(\"CREATE CLASS Purchase EXTENDS E\")\n",
    "client.command(\"CREATE PROPERTY Purchase.purchase_date DATE\")\n"
   ]
  },
  {
   "cell_type": "code",
   "execution_count": 25,
   "metadata": {},
   "outputs": [
    {
     "name": "stdout",
     "output_type": "stream",
     "text": [
      "{{'name': 'Purchase'},'version':0,'rid':'#-2:0'}\n",
      "{{'name': 'OFunction'},'version':0,'rid':'#-2:1'}\n",
      "{{'name': 'ORestricted'},'version':0,'rid':'#-2:2'}\n",
      "{{'name': 'OIdentity'},'version':0,'rid':'#-2:3'}\n",
      "{{'name': 'OUser'},'version':0,'rid':'#-2:4'}\n",
      "{{'name': 'OTriggered'},'version':0,'rid':'#-2:5'}\n",
      "{{'name': 'V'},'version':0,'rid':'#-2:6'}\n",
      "{{'name': 'OSchedule'},'version':0,'rid':'#-2:7'}\n",
      "{{'name': 'OSequence'},'version':0,'rid':'#-2:8'}\n",
      "{{'name': '_studio'},'version':0,'rid':'#-2:9'}\n",
      "{{'name': 'Product'},'version':0,'rid':'#-2:10'}\n",
      "{{'name': 'Customer'},'version':0,'rid':'#-2:11'}\n",
      "{{'name': 'ORole'},'version':0,'rid':'#-2:12'}\n",
      "{{'name': 'E'},'version':0,'rid':'#-2:13'}\n"
     ]
    }
   ],
   "source": [
    "# View all classes in the database\n",
    "for name in client.command(\"SELECT name FROM (SELECT expand(classes) FROM metadata:schema)\"):\n",
    "    print(name)"
   ]
  },
  {
   "cell_type": "markdown",
   "metadata": {},
   "source": [
    "**Q:** Create the following products: `spaghetti`, `bolognese sauce`, `cheese`, `apple`."
   ]
  },
  {
   "cell_type": "code",
   "execution_count": 26,
   "metadata": {},
   "outputs": [],
   "source": [
    "# Create products: spaghetti, bolognese sauce, cheese, apple\n",
    "products_data = [\n",
    "    {\"name\": \"spaghetti\"},\n",
    "    {\"name\": \"bolognese sauce\"},\n",
    "    {\"name\": \"cheese\"},\n",
    "    {\"name\": \"apple\"}\n",
    "]"
   ]
  },
  {
   "cell_type": "code",
   "execution_count": 27,
   "metadata": {},
   "outputs": [
    {
     "name": "stdout",
     "output_type": "stream",
     "text": [
      "Products created:\n",
      "spaghetti\n",
      "bolognese sauce\n",
      "cheese\n",
      "apple\n"
     ]
    }
   ],
   "source": [
    "# Add products to the Product class\n",
    "for product_info in products_data:\n",
    "    product_name = product_info[\"name\"]\n",
    "    create_product_query = f\"CREATE VERTEX Product SET name = '{product_name}'\"\n",
    "    client.command(create_product_query)\n",
    "\n",
    "# Print the created products\n",
    "print(\"Products created:\")\n",
    "for product_info in products_data:\n",
    "    print(product_info[\"name\"])"
   ]
  },
  {
   "cell_type": "code",
   "execution_count": 28,
   "metadata": {},
   "outputs": [
    {
     "name": "stdout",
     "output_type": "stream",
     "text": [
      "\n",
      "Products in the Product class:\n",
      "{'name': 'spaghetti'}\n",
      "{'name': 'bolognese sauce'}\n",
      "{'name': 'cheese'}\n",
      "{'name': 'apple'}\n"
     ]
    }
   ],
   "source": [
    "# Query and print products in the Product class\n",
    "query_products = \"SELECT * FROM Product\"\n",
    "result_products = client.query(query_products)\n",
    "\n",
    "print(\"\\nProducts in the Product class:\")\n",
    "for product in result_products:\n",
    "    print(product.oRecordData)\n"
   ]
  },
  {
   "cell_type": "markdown",
   "metadata": {},
   "source": [
    "**Q:** Create the following people: `peter`, `meredith`."
   ]
  },
  {
   "cell_type": "code",
   "execution_count": 29,
   "metadata": {},
   "outputs": [],
   "source": [
    "# Create people: peter, meredith\n",
    "people_data = [\n",
    "    {\"nickname\": \"peter\"},\n",
    "    {\"nickname\": \"meredith\"}\n",
    "]"
   ]
  },
  {
   "cell_type": "code",
   "execution_count": 30,
   "metadata": {},
   "outputs": [
    {
     "name": "stdout",
     "output_type": "stream",
     "text": [
      "People created:\n",
      "peter\n",
      "meredith\n"
     ]
    }
   ],
   "source": [
    "# Add people to the Customer class\n",
    "for person_info in people_data:\n",
    "    person_nickname = person_info[\"nickname\"]\n",
    "    create_person_query = f\"CREATE VERTEX Customer SET nickname = '{person_nickname}'\"\n",
    "    client.command(create_person_query)\n",
    "\n",
    "# Print the created people\n",
    "print(\"People created:\")\n",
    "for person_info in people_data:\n",
    "    print(person_info[\"nickname\"])"
   ]
  },
  {
   "cell_type": "markdown",
   "metadata": {},
   "source": [
    "**Q:** Create the following purchases: \n",
    "- peter > spaghetti + cheese on 20/01/2016 \n",
    "- meredith > cheese + apple + bolognese sauce on 22/01/2016\n",
    "- peter > spaghetti + bolognese sauce on 27/01/2016\n"
   ]
  },
  {
   "cell_type": "code",
   "execution_count": 31,
   "metadata": {},
   "outputs": [
    {
     "data": {
      "text/plain": [
       "[<pyorient.otypes.OrientRecord at 0x1dac34c4cd0>]"
      ]
     },
     "execution_count": 31,
     "metadata": {},
     "output_type": "execute_result"
    }
   ],
   "source": [
    "\n",
    "# Create edges for purchases\n",
    "# Peter's purchases\n",
    "client.command(\"CREATE EDGE Purchase FROM (SELECT FROM Customer WHERE nickname = 'peter') TO (SELECT FROM Product WHERE name = 'spaghetti') SET purchase_date = '2016-01-20'\")\n",
    "client.command(\"CREATE EDGE Purchase FROM (SELECT FROM Customer WHERE nickname = 'peter') TO (SELECT FROM Product WHERE name = 'cheese') SET purchase_date = '2016-01-20'\")\n",
    "client.command(\"CREATE EDGE Purchase FROM (SELECT FROM Customer WHERE nickname = 'peter') TO (SELECT FROM Product WHERE name = 'bolognese sauce') SET purchase_date = '2016-01-27'\")\n",
    "\n",
    "# Meredith's purchases\n",
    "client.command(\"CREATE EDGE Purchase FROM (SELECT FROM Customer WHERE nickname = 'meredith') TO (SELECT FROM Product WHERE name = 'cheese') SET purchase_date = '2016-01-22'\")\n",
    "client.command(\"CREATE EDGE Purchase FROM (SELECT FROM Customer WHERE nickname = 'meredith') TO (SELECT FROM Product WHERE name = 'apple') SET purchase_date = '2016-01-22'\")\n",
    "client.command(\"CREATE EDGE Purchase FROM (SELECT FROM Customer WHERE nickname = 'meredith') TO (SELECT FROM Product WHERE name = 'bolognese sauce') SET purchase_date = '2016-01-22'\")\n",
    "\n",
    "\n",
    "# Close the session\n",
    "#client.db_close()\n"
   ]
  },
  {
   "cell_type": "markdown",
   "metadata": {},
   "source": [
    "**Q:** Who bought Bolognese sauce?"
   ]
  },
  {
   "cell_type": "code",
   "execution_count": 32,
   "metadata": {},
   "outputs": [
    {
     "name": "stdout",
     "output_type": "stream",
     "text": [
      "Customers who bought Bolognese sauce:\n",
      "peter\n",
      "meredith\n"
     ]
    }
   ],
   "source": [
    "# Query to find customers who bought Bolognese sauce\n",
    "query_bought_bolognese = \"SELECT expand(in('Purchase')) FROM Product WHERE name = 'bolognese sauce'\"\n",
    "\n",
    "# Execute the query\n",
    "result_bought_bolognese = client.query(query_bought_bolognese)\n",
    "\n",
    "# Print the names of customers who bought Bolognese sauce\n",
    "print(\"Customers who bought Bolognese sauce:\")\n",
    "for customer in result_bought_bolognese:\n",
    "    print(customer.oRecordData['nickname'])\n"
   ]
  },
  {
   "cell_type": "markdown",
   "metadata": {},
   "source": [
    "**Q:** It is possible to link the `out` and `in` navigation functions. What products are purchased with Bolognese sauce? "
   ]
  },
  {
   "cell_type": "code",
   "execution_count": 36,
   "metadata": {},
   "outputs": [
    {
     "name": "stdout",
     "output_type": "stream",
     "text": [
      "Products purchased with Bolognese sauce:\n",
      "Bolognese sauce was purchased with 'spaghetti'.\n",
      "Bolognese sauce was purchased with 'cheese'.\n",
      "Bolognese sauce was purchased with 'cheese'.\n",
      "Bolognese sauce was purchased with 'apple'.\n"
     ]
    }
   ],
   "source": [
    "# Query to find products purchased with Bolognese sauce\n",
    "query_related_products = \"SELECT expand(in('Purchase').out('Purchase')) FROM Product WHERE name = 'bolognese sauce'\"\n",
    "\n",
    "# Execute the query\n",
    "result_related_products = client.query(query_related_products)\n",
    "\n",
    "# Print the names of related products\n",
    "print(\"Products purchased with Bolognese sauce:\")\n",
    "for product in result_related_products:\n",
    "    if product.name != 'bolognese sauce':\n",
    "        print(f\"Bolognese sauce was purchased with '{product.name}'.\")\n"
   ]
  },
  {
   "cell_type": "markdown",
   "metadata": {},
   "source": [
    "## Postquisites"
   ]
  },
  {
   "cell_type": "markdown",
   "metadata": {},
   "source": [
    "Since we create databases in memory, they get destroyed on server shutdown."
   ]
  }
 ],
 "metadata": {
  "kernelspec": {
   "display_name": "Python 3 (ipykernel)",
   "language": "python",
   "name": "python3"
  },
  "language_info": {
   "codemirror_mode": {
    "name": "ipython",
    "version": 3
   },
   "file_extension": ".py",
   "mimetype": "text/x-python",
   "name": "python",
   "nbconvert_exporter": "python",
   "pygments_lexer": "ipython3",
   "version": "3.9.18"
  }
 },
 "nbformat": 4,
 "nbformat_minor": 4
}
